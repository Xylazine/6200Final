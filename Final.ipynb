{
 "cells": [
  {
   "metadata": {
    "ExecuteTime": {
     "end_time": "2024-12-09T06:32:28.807259Z",
     "start_time": "2024-12-09T06:32:28.799421Z"
    }
   },
   "cell_type": "code",
   "source": [
    "def get_sum(*args):\n",
    "    return sum(args)\n",
    "\n",
    "print(get_sum(1,2,3,4))"
   ],
   "id": "749c2285e6315091",
   "outputs": [
    {
     "name": "stdout",
     "output_type": "stream",
     "text": [
      "10\n"
     ]
    }
   ],
   "execution_count": 20
  },
  {
   "cell_type": "code",
   "id": "initial_id",
   "metadata": {
    "collapsed": true,
    "ExecuteTime": {
     "end_time": "2024-12-09T03:20:08.725392Z",
     "start_time": "2024-12-09T03:20:08.720611Z"
    }
   },
   "source": [
    "import sys\n",
    "\n",
    "a = ['x', 'y', 'z']\n",
    "b = [3, 1, 2]\n",
    "zipped_dict = dict(zip(a, b))\n",
    "print(sorted(zipped_dict.items(), key=lambda x: x[1], reverse=True))"
   ],
   "outputs": [
    {
     "name": "stdout",
     "output_type": "stream",
     "text": [
      "[('x', 3), ('z', 2), ('y', 1)]\n"
     ]
    }
   ],
   "execution_count": 4
  },
  {
   "metadata": {
    "ExecuteTime": {
     "end_time": "2024-12-09T03:53:08.030828Z",
     "start_time": "2024-12-09T03:53:08.025458Z"
    }
   },
   "cell_type": "code",
   "source": [
    "gene_ds = [ \n",
    "{'Gene': 'KRAS', 'Expression': 2.4, 'Aka': 'RALD'}, \n",
    "{'Gene': 'EGFR', 'Expression': 2.9, 'Aka': 'ERBB1'},   \n",
    "{'Gene': 'TP53', 'Expression': 1.9, 'Aka': 'LFS1'},   \n",
    "{'Gene': 'ALK', 'Expression': 3.5, 'Aka': 'NBLST3'}, \n",
    "] \n",
    "\n",
    "print(gene_ds[3]['Aka'])"
   ],
   "id": "f76432d6d8dc775f",
   "outputs": [
    {
     "name": "stdout",
     "output_type": "stream",
     "text": [
      "NBLST3\n"
     ]
    }
   ],
   "execution_count": 6
  },
  {
   "metadata": {
    "ExecuteTime": {
     "end_time": "2024-12-09T04:39:54.462913Z",
     "start_time": "2024-12-09T04:39:54.458622Z"
    }
   },
   "cell_type": "code",
   "source": [
    "nums= [1, 2, 3, 4, 5, 6, 7, 8, 9, 10]\n",
    "\n",
    "evens = [x for x in nums if x % 2 == 0]\n",
    "\n",
    "print(evens)"
   ],
   "id": "d43341808b92bf02",
   "outputs": [
    {
     "name": "stdout",
     "output_type": "stream",
     "text": [
      "[2, 4, 6, 8, 10]\n"
     ]
    }
   ],
   "execution_count": 10
  },
  {
   "metadata": {
    "ExecuteTime": {
     "end_time": "2024-12-09T04:06:53.537470Z",
     "start_time": "2024-12-09T04:06:53.532586Z"
    }
   },
   "cell_type": "code",
   "source": [
    "a, b = (1, 0)\n",
    "\n",
    "def get_dividend(numerator, denominator):\n",
    "    try:\n",
    "        dividend = numerator / denominator\n",
    "        return dividend\n",
    "    except ZeroDivisionError as err:\n",
    "        print(f\"Error: {err}\", file=sys.stderr)\n",
    "        \n",
    "get_dividend(a, b)"
   ],
   "id": "cff9cfc2ed62ea19",
   "outputs": [
    {
     "name": "stderr",
     "output_type": "stream",
     "text": [
      "Error: division by zero\n"
     ]
    }
   ],
   "execution_count": 9
  },
  {
   "metadata": {
    "ExecuteTime": {
     "end_time": "2024-12-09T05:16:41.696115Z",
     "start_time": "2024-12-09T05:16:41.684370Z"
    }
   },
   "cell_type": "code",
   "source": [
    "protein = 'PQRSTPQTTT'\n",
    "\n",
    "def count_amino_acids(protein: str) -> dict:\n",
    "    aa_count_dict = {}\n",
    "    for aa in protein:\n",
    "        aa_count_dict[aa] = aa_count_dict.get(aa, 0) + 1\n",
    "    return aa_count_dict\n",
    "\n",
    "print(count_amino_acids(protein))"
   ],
   "id": "ece9bd1544d553b3",
   "outputs": [
    {
     "name": "stdout",
     "output_type": "stream",
     "text": [
      "{'P': 2, 'Q': 2, 'R': 1, 'S': 1, 'T': 4}\n"
     ]
    }
   ],
   "execution_count": 14
  },
  {
   "metadata": {
    "ExecuteTime": {
     "end_time": "2024-12-09T06:07:29.872249Z",
     "start_time": "2024-12-09T06:07:29.861910Z"
    }
   },
   "cell_type": "code",
   "source": [
    "a = ['alice', 'david', 'carla'] \n",
    "b = [88, 75, 96]\n",
    "\n",
    "zipped_dict = dict(zip(a, b)) \n",
    "print(sorted(zipped_dict.items(), key = lambda item: item[1], reverse=True))"
   ],
   "id": "b03297cfb5cb7ca9",
   "outputs": [
    {
     "name": "stdout",
     "output_type": "stream",
     "text": [
      "[('carla', 96), ('alice', 88), ('david', 75)]\n"
     ]
    }
   ],
   "execution_count": 15
  },
  {
   "metadata": {
    "ExecuteTime": {
     "end_time": "2024-12-09T06:08:54.049409Z",
     "start_time": "2024-12-09T06:08:54.043638Z"
    }
   },
   "cell_type": "code",
   "source": [
    "Iterator = [x for x in range(1, 31) if x % 3 == 0]\n",
    "print(Iterator)"
   ],
   "id": "d64a9d0023f0b609",
   "outputs": [
    {
     "name": "stdout",
     "output_type": "stream",
     "text": [
      "[3, 6, 9, 12, 15, 18, 21, 24, 27, 30]\n"
     ]
    }
   ],
   "execution_count": 17
  },
  {
   "metadata": {
    "ExecuteTime": {
     "end_time": "2024-12-09T06:20:55.816234Z",
     "start_time": "2024-12-09T06:20:55.803041Z"
    }
   },
   "cell_type": "code",
   "source": [
    "class Sequence: \n",
    "    def __init__(self, mol_type: str=None, sequence: str=None): \n",
    "        self.mol_type = mol_type \n",
    "        self.sequence = sequence \n",
    "    def __str__(self):\n",
    "        return f'Sequence(mol_type=\"{self.mol_type}\", sequence=\"{self.sequence}\")'\n",
    "\n",
    "sequence_obj = Sequence(sequence=\"AAAAAA\", mol_type=\"dna\") \n",
    "print(sequence_obj) "
   ],
   "id": "2bda651a2366ab29",
   "outputs": [
    {
     "name": "stdout",
     "output_type": "stream",
     "text": [
      "Sequence(mol_type=\"dna\", sequence=\"AAAAAA\")\n"
     ]
    }
   ],
   "execution_count": 19
  }
 ],
 "metadata": {
  "kernelspec": {
   "display_name": "Python 3",
   "language": "python",
   "name": "python3"
  },
  "language_info": {
   "codemirror_mode": {
    "name": "ipython",
    "version": 2
   },
   "file_extension": ".py",
   "mimetype": "text/x-python",
   "name": "python",
   "nbconvert_exporter": "python",
   "pygments_lexer": "ipython2",
   "version": "2.7.6"
  }
 },
 "nbformat": 4,
 "nbformat_minor": 5
}
